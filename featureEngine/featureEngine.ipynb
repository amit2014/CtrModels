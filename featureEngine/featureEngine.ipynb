{
 "cells": [
  {
   "cell_type": "code",
   "execution_count": 1,
   "metadata": {
    "ExecuteTime": {
     "end_time": "2018-10-15T16:21:19.545355Z",
     "start_time": "2018-10-15T16:21:17.215617Z"
    }
   },
   "outputs": [],
   "source": [
    "import pandas as pd\n",
    "import numpy as np\n",
    "import lightgbm as lgb\n",
    "from sklearn.model_selection import train_test_split\n",
    "from sklearn.metrics import f1_score\n",
    "from sklearn.linear_model import LogisticRegression\n",
    "from sklearn.preprocessing import OneHotEncoder\n",
    "from sklearn.model_selection import cross_val_score\n",
    "from sklearn.model_selection import StratifiedKFold\n",
    "import matplotlib.pyplot as plt\n",
    "from scipy.sparse import coo_matrix, hstack\n",
    "from sklearn.cluster import KMeans\n",
    "import pickle\n",
    "from collections import Counter\n",
    "def savePickle(target, filename):\n",
    "    with open(filename, \"wb\") as f:\n",
    "        pickle.dump(target, f)\n",
    "def loadPickle(filename):\n",
    "    with open(filename, \"rb\") as f:\n",
    "        return pickle.load(f)"
   ]
  },
  {
   "cell_type": "markdown",
   "metadata": {},
   "source": [
    " - 1_total_fee array([ 0.39827125,  0.39316978,  0.39571121])\n",
    " - 2_total_fee _array([ 0.34979964,  0.35166863,  0.35014922])\n",
    " - 3_total_fee array([ 0.34979964,  0.35166863,  0.35014922])\n",
    " - 4_total_fee  array([ 0.3525123 ,  0.35381964,  0.35444017])\n",
    " - 1234 array([ 0.56280605,  0.56499034,  0.56352438])\n",
    " c =  array([ 0.29369751,  0.29296579,  0.29410951])\n",
    " ---------------------------------------------------\n",
    " ####  total fee\n",
    "  - 1234 0.5604\n",
    "  - 1234 + 1/2 0.5630\n",
    "  - 1234 +1/2 1/3 0.5648\n",
    "  - 1234 + 1/2+1/3+2/4 0.5651\n",
    "  - 1234 + 1/2 1/3 1/4 2/3 2/4 0.5662\n",
    "  - 1234 + 1/2 1/3 1/4 2/3 2/4 1/234 0.5665\n",
    "  - 1234 + 1/2 1/3 1/4 2/3 2/4 3/4 1/234 0.5674\n",
    "  \n",
    "#### traffic\n",
    "  - fee + local 0.5994\n",
    "  - fee + local + last 0.7095\n",
    "  - fee + local _ last + month 0.7472\n",
    "  - fee + local _ last + month +  last/month 0.7476\n",
    "  - fee + local _ last + month +  last/month local/month 0.7493\n",
    "  \n",
    "#### call\n",
    "  -  fee + traffic + local 0.7519\n",
    "  -  fee + traffic + local + service1 0.7850\n",
    "  -  fee + traffic + local + service1 + service2  0.8160\n",
    "  -  fee + traffic + local + service1 + service2 + s2/local 0.8162\n",
    "  \n",
    "#### nature\n",
    "  - fee + traffic + call + age  0.8184\n",
    "  - fee + traffic + call + age + gender 0.8189\n",
    "  \n",
    "#### statistics\n",
    "  - fee + traffic + call + age + onlinetime 0.0.8280\n",
    "  - fee + traffic + call + age + onlinetime + service_type 0.8352\n",
    "  - fee + traffic + call + age + onlinetime + service_type + is_mix_type 0.8362\n",
    "  - ... +  many_over_bill 0.8443\n",
    "  - ... +  contract_type 0.8496\n",
    "  - ... + contract_time 0.8683\n",
    "  - ... + is_promise_low_consume 0.8689\n",
    "  - ... + pay_times 0.8690\n",
    "  - ... + pay_num 0.8693\n",
    "#### cross feature\n",
    "  - ... + traffic/fee 0.8699\n",
    "  - ... + traffic/call 0.8701\n",
    "  - ... 8839， 0.8843"
   ]
  },
  {
   "cell_type": "code",
   "execution_count": 2,
   "metadata": {
    "ExecuteTime": {
     "end_time": "2018-10-15T16:21:19.552527Z",
     "start_time": "2018-10-15T16:21:19.545355Z"
    }
   },
   "outputs": [],
   "source": [
    "def square_f1_score(y_true, y_pred):\n",
    "    y_pred = np.array(y_pred)\n",
    "    y_true = np.array(y_true)\n",
    "    samples = len(y_true)\n",
    "    classes = int(len(y_pred)/samples)\n",
    "    df = pd.DataFrame()\n",
    "    for i in range(0, classes):\n",
    "        df['c_%d'%i] =  y_pred[samples * i: samples*(i+1)]\n",
    "    pred = np.argmax(np.array(df), axis = 1)\n",
    "    score = np.square(f1_score(y_true, pred, average = 'macro'))\n",
    "    return 'square_f1_score', score, True"
   ]
  },
  {
   "cell_type": "code",
   "execution_count": 3,
   "metadata": {
    "ExecuteTime": {
     "end_time": "2018-10-15T16:21:19.565507Z",
     "start_time": "2018-10-15T16:21:19.555513Z"
    }
   },
   "outputs": [],
   "source": [
    "def getfeeDistance(fee1, fee2):\n",
    "    #计算规范化之后，1_totol_fee 和 2_total_fee 组成的二维图中，样本离对角线的距离。\n",
    "    n1_fee = np.log(fee1 + 1)\n",
    "    n1_fee = n1_fee/np.max(n1_fee)\n",
    "    n2_fee = np.log(fee2 + 1)\n",
    "    n2_fee = n1_fee/np.max(n2_fee)\n",
    "    d_fee_1_2 = abs(n1_fee - n2_fee)/1.4142\n",
    "    d_fee12_o = np.sqrt(np.power(n1_fee, 2) + np.power(n2_fee, 2))\n",
    "    return d_fee_1_2, d_fee12_o\n",
    "\n",
    "def normalize(feature, log = True, percent = -1):\n",
    "    c = np.array(feature)\n",
    "    if 0 < percent < 100:\n",
    "        top = np.percentile(c, 100 - percent)\n",
    "        bottom = np.percentile(c, percent)\n",
    "        maxv = top + 2*(top - bottom)\n",
    "        minv = bottom - 2*(top - bottom)\n",
    "        c = np.array([maxv if v > maxv else v for v in c ])\n",
    "        c = np.array([minv if v < minv else v for v in c ])\n",
    "        print(top, bottom, maxv, minv)\n",
    "    if log:\n",
    "        c = np.log(c + 1)\n",
    "    c = c/np.max(c)\n",
    "    return c\n",
    "    "
   ]
  },
  {
   "cell_type": "code",
   "execution_count": null,
   "metadata": {},
   "outputs": [],
   "source": []
  },
  {
   "cell_type": "code",
   "execution_count": 4,
   "metadata": {
    "ExecuteTime": {
     "end_time": "2018-10-15T16:21:28.702927Z",
     "start_time": "2018-10-15T16:21:19.567507Z"
    },
    "scrolled": false
   },
   "outputs": [
    {
     "name": "stderr",
     "output_type": "stream",
     "text": [
      "C:\\Users\\leo\\Anaconda3\\envs\\tensorflow_gpu\\lib\\site-packages\\ipykernel_launcher.py:18: RuntimeWarning: divide by zero encountered in true_divide\n",
      "C:\\Users\\leo\\Anaconda3\\envs\\tensorflow_gpu\\lib\\site-packages\\ipykernel_launcher.py:18: RuntimeWarning: invalid value encountered in true_divide\n",
      "C:\\Users\\leo\\Anaconda3\\envs\\tensorflow_gpu\\lib\\site-packages\\ipykernel_launcher.py:19: RuntimeWarning: divide by zero encountered in true_divide\n",
      "C:\\Users\\leo\\Anaconda3\\envs\\tensorflow_gpu\\lib\\site-packages\\ipykernel_launcher.py:19: RuntimeWarning: invalid value encountered in true_divide\n",
      "C:\\Users\\leo\\Anaconda3\\envs\\tensorflow_gpu\\lib\\site-packages\\ipykernel_launcher.py:20: RuntimeWarning: divide by zero encountered in true_divide\n",
      "C:\\Users\\leo\\Anaconda3\\envs\\tensorflow_gpu\\lib\\site-packages\\ipykernel_launcher.py:20: RuntimeWarning: invalid value encountered in true_divide\n",
      "C:\\Users\\leo\\Anaconda3\\envs\\tensorflow_gpu\\lib\\site-packages\\ipykernel_launcher.py:21: RuntimeWarning: divide by zero encountered in true_divide\n",
      "C:\\Users\\leo\\Anaconda3\\envs\\tensorflow_gpu\\lib\\site-packages\\ipykernel_launcher.py:21: RuntimeWarning: invalid value encountered in true_divide\n",
      "C:\\Users\\leo\\Anaconda3\\envs\\tensorflow_gpu\\lib\\site-packages\\ipykernel_launcher.py:22: RuntimeWarning: divide by zero encountered in true_divide\n",
      "C:\\Users\\leo\\Anaconda3\\envs\\tensorflow_gpu\\lib\\site-packages\\ipykernel_launcher.py:22: RuntimeWarning: invalid value encountered in true_divide\n"
     ]
    },
    {
     "name": "stdout",
     "output_type": "stream",
     "text": [
      "1375.0167501 0.0 4125.05025029 -2750.03350019\n"
     ]
    },
    {
     "name": "stderr",
     "output_type": "stream",
     "text": [
      "C:\\Users\\leo\\Anaconda3\\envs\\tensorflow_gpu\\lib\\site-packages\\ipykernel_launcher.py:34: RuntimeWarning: divide by zero encountered in true_divide\n",
      "C:\\Users\\leo\\Anaconda3\\envs\\tensorflow_gpu\\lib\\site-packages\\ipykernel_launcher.py:34: RuntimeWarning: invalid value encountered in true_divide\n",
      "C:\\Users\\leo\\Anaconda3\\envs\\tensorflow_gpu\\lib\\site-packages\\ipykernel_launcher.py:35: RuntimeWarning: divide by zero encountered in true_divide\n",
      "C:\\Users\\leo\\Anaconda3\\envs\\tensorflow_gpu\\lib\\site-packages\\ipykernel_launcher.py:35: RuntimeWarning: invalid value encountered in true_divide\n"
     ]
    },
    {
     "name": "stdout",
     "output_type": "stream",
     "text": [
      "0.184855691419 -1.0 2.55456707426 -3.36971138284\n"
     ]
    },
    {
     "name": "stderr",
     "output_type": "stream",
     "text": [
      "C:\\Users\\leo\\Anaconda3\\envs\\tensorflow_gpu\\lib\\site-packages\\ipykernel_launcher.py:22: RuntimeWarning: divide by zero encountered in log\n"
     ]
    },
    {
     "name": "stdout",
     "output_type": "stream",
     "text": [
      "0.990473448318 -1.0 4.97142034495 -4.98094689664\n"
     ]
    },
    {
     "name": "stderr",
     "output_type": "stream",
     "text": [
      "C:\\Users\\leo\\Anaconda3\\envs\\tensorflow_gpu\\lib\\site-packages\\ipykernel_launcher.py:46: RuntimeWarning: divide by zero encountered in true_divide\n",
      "C:\\Users\\leo\\Anaconda3\\envs\\tensorflow_gpu\\lib\\site-packages\\ipykernel_launcher.py:46: RuntimeWarning: invalid value encountered in true_divide\n",
      "C:\\Users\\leo\\Anaconda3\\envs\\tensorflow_gpu\\lib\\site-packages\\ipykernel_launcher.py:47: RuntimeWarning: divide by zero encountered in true_divide\n",
      "C:\\Users\\leo\\Anaconda3\\envs\\tensorflow_gpu\\lib\\site-packages\\ipykernel_launcher.py:47: RuntimeWarning: invalid value encountered in true_divide\n"
     ]
    },
    {
     "name": "stdout",
     "output_type": "stream",
     "text": [
      "1.41240262716 -1.0 6.23720788147 -5.82480525431\n",
      "0.0 -1.0 2.0 -3.0\n"
     ]
    },
    {
     "name": "stderr",
     "output_type": "stream",
     "text": [
      "C:\\Users\\leo\\Anaconda3\\envs\\tensorflow_gpu\\lib\\site-packages\\ipykernel_launcher.py:82: RuntimeWarning: divide by zero encountered in true_divide\n",
      "C:\\Users\\leo\\Anaconda3\\envs\\tensorflow_gpu\\lib\\site-packages\\ipykernel_launcher.py:82: RuntimeWarning: invalid value encountered in true_divide\n"
     ]
    },
    {
     "name": "stdout",
     "output_type": "stream",
     "text": [
      "1.07696152249 0.0 3.23088456746 -2.15392304498\n"
     ]
    },
    {
     "name": "stderr",
     "output_type": "stream",
     "text": [
      "C:\\Users\\leo\\Anaconda3\\envs\\tensorflow_gpu\\lib\\site-packages\\ipykernel_launcher.py:5: RuntimeWarning: invalid value encountered in log\n",
      "  \"\"\"\n",
      "C:\\Users\\leo\\Anaconda3\\envs\\tensorflow_gpu\\lib\\site-packages\\ipykernel_launcher.py:3: RuntimeWarning: invalid value encountered in log\n",
      "  This is separate from the ipykernel package so we can avoid doing imports until\n"
     ]
    }
   ],
   "source": [
    "\n",
    "enc = OneHotEncoder()\n",
    "train = loadPickle(\"../data/train.pkl\")\n",
    "test = loadPickle(\"../data/test.pkl\")\n",
    "test['2_total_fee'] = test['2_total_fee'].astype(float)\n",
    "test['3_total_fee'] = test['3_total_fee'].astype(float)\n",
    "test['3_total_fee'] = test['3_total_fee'].astype(float)\n",
    "categoryes = sorted(train['current_service'].unique())\n",
    "label_dict = {}\n",
    "for i in range(len(categoryes)):\n",
    "    label_dict[categoryes[i]] = i\n",
    "    label_dict[i] = categoryes[i]\n",
    "\n",
    "test['current_service'] = -1\n",
    "train['current_service'] = np.array(train['current_service'].apply(lambda x:label_dict[x]))\n",
    "train = train.append(test)\n",
    "features = train[['1_total_fee', '2_total_fee', '3_total_fee', '4_total_fee']].copy()\n",
    "features['1_2_total_fee_n'] = np.array(features['1_total_fee'])/np.array(features['2_total_fee'])\n",
    "features['1_3_total_fee_n'] = np.array(features['1_total_fee'])/np.array(features['3_total_fee'])\n",
    "features['2_4_total_fee_n'] = np.array(features['2_total_fee'])/np.array(features['4_total_fee'])\n",
    "features['2_3_total_fee_n'] = np.array(features['2_total_fee'])/np.array(features['3_total_fee'])\n",
    "features['3_4_total_fee_n'] = np.array(features['3_total_fee'])/np.array(features['4_total_fee'])\n",
    "features.loc[features['2_total_fee'] == 0, '1_2_total_fee_n'] =  -1\n",
    "features.loc[features['3_total_fee'] == 0, '1_3_total_fee_n'] =  -1\n",
    "features.loc[features['4_total_fee'] == 0, '2_4_total_fee_n'] =  -1\n",
    "features.loc[features['3_total_fee'] == 0, '2_3_total_fee_n'] =  -1\n",
    "features.loc[features['4_total_fee'] == 0, '3_4_total_fee_n'] =  -1\n",
    "features['max_fee'] = np.max(np.array(features[['1_total_fee', '2_total_fee', '3_total_fee', '4_total_fee']]),axis = 1)\n",
    "features['min_fee'] = np.min(np.array(features[['1_total_fee', '2_total_fee', '3_total_fee', '4_total_fee']]),axis = 1)\n",
    "# traficc\n",
    "features['local_trafffic_month'] = train['local_trafffic_month']\n",
    "features['last_month_traffic'] = train['last_month_traffic']\n",
    "features['month_traffic'] = normalize(train['month_traffic'], log = True, percent = 25)\n",
    "features['r_last_month_traffic'] = np.array(train['last_month_traffic'])/np.array(train['month_traffic'])\n",
    "features['r_local_month_traffic'] = np.array(train['local_trafffic_month'])/np.array(train['month_traffic'])\n",
    "features.loc[features['month_traffic'] == 0, 'r_last_month_traffic'] =  -1\n",
    "features.loc[features['month_traffic'] == 0, 'r_local_month_traffic'] =  -1\n",
    "features['r_last_month_traffic'] = normalize(features['r_last_month_traffic'], log = True, percent = 25)\n",
    "features['r_local_month_traffic'] = normalize(features['r_local_month_traffic'], log = True, percent = 25)\n",
    "features['non_local_trafffic_month'] = np.array(train['month_traffic']) - np.array(train['local_trafffic_month'])\n",
    "\n",
    "#call\n",
    "features['local_caller_time'] = train['local_caller_time']\n",
    "features['service1_caller_time'] = train['service1_caller_time']\n",
    "features['service2_caller_time'] = train['service2_caller_time']\n",
    "features['s2_local_caller_time'] = np.array(train['service2_caller_time'])/np.array(train['local_caller_time'])\n",
    "features['s1_s2_caller_time'] = np.array(train['service1_caller_time'])/np.array(train['service2_caller_time'])\n",
    "features.loc[features['local_caller_time'] == 0, 's2_local_caller_time'] =  -1\n",
    "features.loc[features['service2_caller_time'] == 0, 's1_s2_caller_time'] =  -1\n",
    "features['s2_local_caller_time'] = normalize(features['s2_local_caller_time'], log = True, percent = 25)\n",
    "features['s1_s2_caller_time'] = normalize(features['s1_s2_caller_time'], log = True, percent = 25)\n",
    "#nature\n",
    "features['age'] = train['age']\n",
    "features['gender0'] = np.array(train['gender'] == 0).astype(int)\n",
    "features['gender1'] = np.array(train['gender'] == 1).astype(int)\n",
    "features['gender2'] = np.array(train['gender'] == 2).astype(int)\n",
    "\n",
    "#other\n",
    "features['online_time'] = train['online_time']\n",
    "features['service_type0'] = np.array(train['service_type'] == 4).astype(int)\n",
    "features['service_type1'] = np.array(train['service_type'] == 1).astype(int)\n",
    "features['is_mix_service'] = train['is_mix_service']\n",
    "features['many_over_bill'] = train['many_over_bill']\n",
    "features['contract_type0'] = np.array(train['contract_type'] == 0).astype(int)\n",
    "features['contract_type1'] = np.array(train['contract_type'] == 1).astype(int)\n",
    "features['contract_type2'] = np.array(train['contract_type'] == 2).astype(int)\n",
    "features['contract_type3'] = np.array(train['contract_type'] == 3).astype(int)\n",
    "features['contract_type4'] = np.array(train['contract_type'] == 6).astype(int)\n",
    "features['contract_type5'] = np.array(train['contract_type'] == 7).astype(int)\n",
    "features['contract_type6'] = np.array(train['contract_type'] == 8).astype(int)\n",
    "features['contract_type7'] = np.array(train['contract_type'] == 9).astype(int)\n",
    "features['contract_type8'] = np.array(train['contract_type'] == 12).astype(int)\n",
    "for t in sorted(train['contract_time'].unique()):\n",
    "    features['contract_time_%d'%t] = np.array(train['contract_time'] == t).astype(int)\n",
    "features['is_promise_low_consume'] = train['is_promise_low_consume']\n",
    "# for t in sorted(train['net_service'].unique()):\n",
    "#     features['net_service_%d'%t] = np.array(train['net_service'] == t).astype(int) not good\n",
    "features['pay_times'] = train['pay_times']\n",
    "features['pay_num'] = train['pay_num']\n",
    "\n",
    "# cross\n",
    "features['traffic_fee'] = normalize(train['month_traffic'])/normalize(train['1_total_fee'])\n",
    "features.loc[features['1_total_fee'] == 0, 'traffic_fee'] =  -1\n",
    "features['traffic_fee'] = normalize(features['traffic_fee'], log = False, percent = 25)\n",
    "\n",
    "#计算规范化之后，1_totol_fee 和 2_total_fee 组成的二维图中，样本离对角线的距离。\n",
    "features['d_fee_1_2'], features['d_fee12_o'] = getfeeDistance(features['1_total_fee'], features['2_total_fee'])\n",
    "features['d_fee_2_3'], features['d_fee23_o'] = getfeeDistance(features['2_total_fee'], features['3_total_fee'])\n",
    "features['d_fee_3_4'], features['d_fee34_o'] = getfeeDistance(features['3_total_fee'], features['4_total_fee'])\n",
    "\n",
    "#计算相等金额离散化值\n",
    "e12 = np.array(train['1_total_fee'] == train['2_total_fee'])\n",
    "\n",
    "c1 = normalize(features['local_trafffic_month'])\n",
    "c2 = normalize(features['month_traffic'])\n",
    "c2 = np.power(c2,0.0625)\n",
    "features['traffic_magic'] = c1 - c2\n",
    "\n",
    "c1 = normalize(features['local_caller_time'])\n",
    "c2 = normalize(features['service1_caller_time'])\n",
    "features['d_local_service1'] = c1 - c2\n",
    "features['d_local_service2'] =  c2 + c2\n",
    "\n",
    "\n",
    "\n",
    "# userid \n",
    "features['user_id'] = train['user_id']\n",
    "features['current_service'] = train['current_service']\n",
    "\n",
    "features = features.fillna(-1)\n",
    "train = features[features.current_service >= 0].copy()\n",
    "test = features[features.current_service < 0].drop(['current_service'], axis = 1).copy()"
   ]
  },
  {
   "cell_type": "code",
   "execution_count": 5,
   "metadata": {
    "ExecuteTime": {
     "end_time": "2018-10-15T16:21:29.731808Z",
     "start_time": "2018-10-15T16:21:28.702927Z"
    }
   },
   "outputs": [
    {
     "data": {
      "text/plain": [
       "[<matplotlib.lines.Line2D at 0x18914c57978>]"
      ]
     },
     "execution_count": 5,
     "metadata": {},
     "output_type": "execute_result"
    },
    {
     "data": {
      "image/png": "[encoded data removed]",
      "text/plain": [
       "<Figure size 432x288 with 1 Axes>"
      ]
     },
     "metadata": {},
     "output_type": "display_data"
    }
   ],
   "source": [
    "plt.plot(sorted(features['2_total_fee'])[:-1000])"
   ]
  },
  {
   "cell_type": "code",
   "execution_count": 6,
   "metadata": {
    "ExecuteTime": {
     "end_time": "2018-10-15T16:21:42.058471Z",
     "start_time": "2018-10-15T16:21:29.733806Z"
    }
   },
   "outputs": [],
   "source": [
    "du = train[train.duplicated(keep = False)]\n",
    "du = du[du['current_service'] != 3]\n",
    "du = du[du['current_service'] != 4]\n",
    "train_x = train.drop_duplicates(keep = False).drop(['current_service', 'user_id'], axis = 1)\n",
    "train_y = np.array(train.drop_duplicates(keep = False)['current_service'])\n",
    "du_x = du.drop(['current_service', 'user_id'], axis = 1)\n",
    "du_y = np.array(du['current_service'])\n",
    "train_x = np.vstack([train_x, du_x])\n",
    "train_y= np.hstack([train_y, du_y])"
   ]
  },
  {
   "cell_type": "code",
   "execution_count": 7,
   "metadata": {
    "ExecuteTime": {
     "end_time": "2018-10-15T16:21:42.622855Z",
     "start_time": "2018-10-15T16:21:42.058471Z"
    }
   },
   "outputs": [],
   "source": [
    "train_x, eval_x, train_y, eval_y = train_test_split(train_x, train_y, test_size = 0.3, random_state = 50)"
   ]
  },
  {
   "cell_type": "code",
   "execution_count": 8,
   "metadata": {
    "ExecuteTime": {
     "end_time": "2018-10-15T16:21:45.017726Z",
     "start_time": "2018-10-15T16:21:42.622855Z"
    }
   },
   "outputs": [
    {
     "name": "stdout",
     "output_type": "stream",
     "text": [
      "before: (520790, 96)\n",
      "after: (372657, 96)\n"
     ]
    }
   ],
   "source": [
    "def downSample(train_x, train_y, class_label, frac):\n",
    "    trainData = pd.DataFrame(train_x)\n",
    "    trainData['y'] = np.array(train_y)\n",
    "    c = trainData[trainData['y'] == class_label]\n",
    "    c = c.sample(frac = frac)\n",
    "    trainData = trainData[trainData['y'] != class_label].copy()\n",
    "    trainData = trainData.append(c)\n",
    "    return trainData.drop(['y'], axis = 1), np.array(trainData['y'])\n",
    "print(\"before:\", train_x.shape)\n",
    "train_x, train_y = downSample(train_x, train_y, 3, 0.4)\n",
    "train_x, train_y = downSample(train_x, train_y, 4, 0.5)\n",
    "train_x, train_y = downSample(train_x, train_y, 0, 0.85)\n",
    "print(\"after:\", train_x.shape)"
   ]
  },
  {
   "cell_type": "code",
   "execution_count": 9,
   "metadata": {
    "ExecuteTime": {
     "end_time": "2018-10-15T16:21:45.024733Z",
     "start_time": "2018-10-15T16:21:45.019724Z"
    }
   },
   "outputs": [],
   "source": [
    "# train_y = np.array(train_y == 10).astype(int)\n",
    "# eval_y = np.array(eval_y == 10).astype(int)"
   ]
  },
  {
   "cell_type": "code",
   "execution_count": 10,
   "metadata": {
    "ExecuteTime": {
     "end_time": "2018-10-15T16:21:45.037713Z",
     "start_time": "2018-10-15T16:21:45.026720Z"
    }
   },
   "outputs": [
    {
     "data": {
      "text/plain": [
       "372657"
      ]
     },
     "execution_count": 10,
     "metadata": {},
     "output_type": "execute_result"
    }
   ],
   "source": [
    "len(train_x)"
   ]
  },
  {
   "cell_type": "code",
   "execution_count": null,
   "metadata": {
    "ExecuteTime": {
     "start_time": "2018-10-15T16:21:24.420Z"
    },
    "scrolled": true
   },
   "outputs": [
    {
     "name": "stdout",
     "output_type": "stream",
     "text": [
      "[1]\tvalid_0's multi_logloss: 0.779635\tvalid_0's square_f1_score: 0.662804\n",
      "Training until validation scores don't improve for 200 rounds.\n",
      "[2]\tvalid_0's multi_logloss: 0.580986\tvalid_0's square_f1_score: 0.693817\n",
      "[3]\tvalid_0's multi_logloss: 0.460298\tvalid_0's square_f1_score: 0.709368\n",
      "[4]\tvalid_0's multi_logloss: 0.3846\tvalid_0's square_f1_score: 0.721282\n",
      "[5]\tvalid_0's multi_logloss: 0.33662\tvalid_0's square_f1_score: 0.730648\n",
      "[6]\tvalid_0's multi_logloss: 0.303916\tvalid_0's square_f1_score: 0.738772\n",
      "[7]\tvalid_0's multi_logloss: 0.282454\tvalid_0's square_f1_score: 0.743023\n",
      "[8]\tvalid_0's multi_logloss: 0.266161\tvalid_0's square_f1_score: 0.747768\n",
      "[9]\tvalid_0's multi_logloss: 0.254409\tvalid_0's square_f1_score: 0.752595\n",
      "[10]\tvalid_0's multi_logloss: 0.24475\tvalid_0's square_f1_score: 0.756167\n",
      "[11]\tvalid_0's multi_logloss: 0.23775\tvalid_0's square_f1_score: 0.759695\n",
      "[12]\tvalid_0's multi_logloss: 0.23168\tvalid_0's square_f1_score: 0.76299\n",
      "[13]\tvalid_0's multi_logloss: 0.226827\tvalid_0's square_f1_score: 0.765305\n",
      "[14]\tvalid_0's multi_logloss: 0.223074\tvalid_0's square_f1_score: 0.768026\n",
      "[15]\tvalid_0's multi_logloss: 0.219803\tvalid_0's square_f1_score: 0.769903\n",
      "[16]\tvalid_0's multi_logloss: 0.216796\tvalid_0's square_f1_score: 0.771688\n",
      "[17]\tvalid_0's multi_logloss: 0.214402\tvalid_0's square_f1_score: 0.772271\n",
      "[18]\tvalid_0's multi_logloss: 0.212495\tvalid_0's square_f1_score: 0.774133\n",
      "[19]\tvalid_0's multi_logloss: 0.210507\tvalid_0's square_f1_score: 0.775856\n",
      "[20]\tvalid_0's multi_logloss: 0.208992\tvalid_0's square_f1_score: 0.776274\n",
      "[21]\tvalid_0's multi_logloss: 0.207124\tvalid_0's square_f1_score: 0.777787\n",
      "[22]\tvalid_0's multi_logloss: 0.205634\tvalid_0's square_f1_score: 0.779187\n",
      "[23]\tvalid_0's multi_logloss: 0.204562\tvalid_0's square_f1_score: 0.779652\n",
      "[24]\tvalid_0's multi_logloss: 0.202912\tvalid_0's square_f1_score: 0.780614\n",
      "[25]\tvalid_0's multi_logloss: 0.201878\tvalid_0's square_f1_score: 0.78151\n",
      "[26]\tvalid_0's multi_logloss: 0.201037\tvalid_0's square_f1_score: 0.782821\n",
      "[27]\tvalid_0's multi_logloss: 0.200012\tvalid_0's square_f1_score: 0.783876\n",
      "[28]\tvalid_0's multi_logloss: 0.199081\tvalid_0's square_f1_score: 0.78448\n",
      "[29]\tvalid_0's multi_logloss: 0.198325\tvalid_0's square_f1_score: 0.785782\n",
      "[30]\tvalid_0's multi_logloss: 0.197571\tvalid_0's square_f1_score: 0.786\n",
      "[31]\tvalid_0's multi_logloss: 0.196873\tvalid_0's square_f1_score: 0.78641\n",
      "[32]\tvalid_0's multi_logloss: 0.196155\tvalid_0's square_f1_score: 0.78746\n",
      "[33]\tvalid_0's multi_logloss: 0.195486\tvalid_0's square_f1_score: 0.787987\n",
      "[34]\tvalid_0's multi_logloss: 0.194799\tvalid_0's square_f1_score: 0.788489\n",
      "[35]\tvalid_0's multi_logloss: 0.194318\tvalid_0's square_f1_score: 0.789239\n",
      "[36]\tvalid_0's multi_logloss: 0.19383\tvalid_0's square_f1_score: 0.790018\n",
      "[37]\tvalid_0's multi_logloss: 0.193303\tvalid_0's square_f1_score: 0.790879\n",
      "[38]\tvalid_0's multi_logloss: 0.192758\tvalid_0's square_f1_score: 0.791405\n",
      "[39]\tvalid_0's multi_logloss: 0.191993\tvalid_0's square_f1_score: 0.792275\n",
      "[40]\tvalid_0's multi_logloss: 0.191528\tvalid_0's square_f1_score: 0.792965\n",
      "[41]\tvalid_0's multi_logloss: 0.19099\tvalid_0's square_f1_score: 0.793542\n",
      "[42]\tvalid_0's multi_logloss: 0.190626\tvalid_0's square_f1_score: 0.794066\n",
      "[43]\tvalid_0's multi_logloss: 0.190265\tvalid_0's square_f1_score: 0.79444\n",
      "[44]\tvalid_0's multi_logloss: 0.189821\tvalid_0's square_f1_score: 0.795263\n",
      "[45]\tvalid_0's multi_logloss: 0.189277\tvalid_0's square_f1_score: 0.795351\n",
      "[46]\tvalid_0's multi_logloss: 0.189\tvalid_0's square_f1_score: 0.795381\n",
      "[47]\tvalid_0's multi_logloss: 0.188761\tvalid_0's square_f1_score: 0.795293\n",
      "[48]\tvalid_0's multi_logloss: 0.188387\tvalid_0's square_f1_score: 0.795744\n",
      "[49]\tvalid_0's multi_logloss: 0.188057\tvalid_0's square_f1_score: 0.796352\n",
      "[50]\tvalid_0's multi_logloss: 0.187797\tvalid_0's square_f1_score: 0.796298\n",
      "[51]\tvalid_0's multi_logloss: 0.187442\tvalid_0's square_f1_score: 0.79608\n",
      "[52]\tvalid_0's multi_logloss: 0.187256\tvalid_0's square_f1_score: 0.796758\n",
      "[53]\tvalid_0's multi_logloss: 0.187075\tvalid_0's square_f1_score: 0.797135\n",
      "[54]\tvalid_0's multi_logloss: 0.186731\tvalid_0's square_f1_score: 0.797681\n",
      "[55]\tvalid_0's multi_logloss: 0.18639\tvalid_0's square_f1_score: 0.79779\n",
      "[56]\tvalid_0's multi_logloss: 0.18607\tvalid_0's square_f1_score: 0.798776\n",
      "[57]\tvalid_0's multi_logloss: 0.185836\tvalid_0's square_f1_score: 0.798511\n",
      "[58]\tvalid_0's multi_logloss: 0.185598\tvalid_0's square_f1_score: 0.799342\n",
      "[59]\tvalid_0's multi_logloss: 0.185264\tvalid_0's square_f1_score: 0.800455\n",
      "[60]\tvalid_0's multi_logloss: 0.184878\tvalid_0's square_f1_score: 0.800577\n",
      "[61]\tvalid_0's multi_logloss: 0.184601\tvalid_0's square_f1_score: 0.801015\n",
      "[62]\tvalid_0's multi_logloss: 0.184433\tvalid_0's square_f1_score: 0.801359\n",
      "[63]\tvalid_0's multi_logloss: 0.184217\tvalid_0's square_f1_score: 0.801407\n",
      "[64]\tvalid_0's multi_logloss: 0.184028\tvalid_0's square_f1_score: 0.801784\n",
      "[65]\tvalid_0's multi_logloss: 0.183719\tvalid_0's square_f1_score: 0.802347\n",
      "[66]\tvalid_0's multi_logloss: 0.183499\tvalid_0's square_f1_score: 0.802844\n",
      "[67]\tvalid_0's multi_logloss: 0.183313\tvalid_0's square_f1_score: 0.802904\n",
      "[68]\tvalid_0's multi_logloss: 0.183028\tvalid_0's square_f1_score: 0.80321\n",
      "[69]\tvalid_0's multi_logloss: 0.18279\tvalid_0's square_f1_score: 0.803558\n",
      "[70]\tvalid_0's multi_logloss: 0.182463\tvalid_0's square_f1_score: 0.80395\n",
      "[71]\tvalid_0's multi_logloss: 0.182269\tvalid_0's square_f1_score: 0.804463\n",
      "[72]\tvalid_0's multi_logloss: 0.182169\tvalid_0's square_f1_score: 0.804299\n",
      "[73]\tvalid_0's multi_logloss: 0.181995\tvalid_0's square_f1_score: 0.804612\n",
      "[74]\tvalid_0's multi_logloss: 0.181826\tvalid_0's square_f1_score: 0.805093\n",
      "[75]\tvalid_0's multi_logloss: 0.181616\tvalid_0's square_f1_score: 0.805296\n",
      "[76]\tvalid_0's multi_logloss: 0.181495\tvalid_0's square_f1_score: 0.805207\n",
      "[77]\tvalid_0's multi_logloss: 0.181379\tvalid_0's square_f1_score: 0.805528\n",
      "[78]\tvalid_0's multi_logloss: 0.18113\tvalid_0's square_f1_score: 0.805942\n",
      "[79]\tvalid_0's multi_logloss: 0.180973\tvalid_0's square_f1_score: 0.806177\n",
      "[80]\tvalid_0's multi_logloss: 0.180776\tvalid_0's square_f1_score: 0.80635\n",
      "[81]\tvalid_0's multi_logloss: 0.180665\tvalid_0's square_f1_score: 0.806685\n",
      "[82]\tvalid_0's multi_logloss: 0.180526\tvalid_0's square_f1_score: 0.806948\n",
      "[83]\tvalid_0's multi_logloss: 0.180276\tvalid_0's square_f1_score: 0.807694\n",
      "[84]\tvalid_0's multi_logloss: 0.180116\tvalid_0's square_f1_score: 0.807682\n",
      "[85]\tvalid_0's multi_logloss: 0.179922\tvalid_0's square_f1_score: 0.807772\n",
      "[86]\tvalid_0's multi_logloss: 0.179718\tvalid_0's square_f1_score: 0.808052\n",
      "[87]\tvalid_0's multi_logloss: 0.179553\tvalid_0's square_f1_score: 0.808148\n",
      "[88]\tvalid_0's multi_logloss: 0.179202\tvalid_0's square_f1_score: 0.808315\n",
      "[89]\tvalid_0's multi_logloss: 0.179051\tvalid_0's square_f1_score: 0.808561\n",
      "[90]\tvalid_0's multi_logloss: 0.178926\tvalid_0's square_f1_score: 0.808777\n",
      "[91]\tvalid_0's multi_logloss: 0.1788\tvalid_0's square_f1_score: 0.809258\n",
      "[92]\tvalid_0's multi_logloss: 0.178567\tvalid_0's square_f1_score: 0.809391\n",
      "[93]\tvalid_0's multi_logloss: 0.178379\tvalid_0's square_f1_score: 0.80955\n",
      "[94]\tvalid_0's multi_logloss: 0.178259\tvalid_0's square_f1_score: 0.809412\n",
      "[95]\tvalid_0's multi_logloss: 0.178097\tvalid_0's square_f1_score: 0.810035\n",
      "[96]\tvalid_0's multi_logloss: 0.177993\tvalid_0's square_f1_score: 0.810413\n",
      "[97]\tvalid_0's multi_logloss: 0.177871\tvalid_0's square_f1_score: 0.810192\n",
      "[98]\tvalid_0's multi_logloss: 0.177736\tvalid_0's square_f1_score: 0.810584\n",
      "[99]\tvalid_0's multi_logloss: 0.177627\tvalid_0's square_f1_score: 0.810635\n",
      "[100]\tvalid_0's multi_logloss: 0.177569\tvalid_0's square_f1_score: 0.810726\n",
      "[101]\tvalid_0's multi_logloss: 0.177403\tvalid_0's square_f1_score: 0.811398\n",
      "[102]\tvalid_0's multi_logloss: 0.177286\tvalid_0's square_f1_score: 0.811595\n",
      "[103]\tvalid_0's multi_logloss: 0.177123\tvalid_0's square_f1_score: 0.812292\n",
      "[104]\tvalid_0's multi_logloss: 0.17704\tvalid_0's square_f1_score: 0.812551\n",
      "[105]\tvalid_0's multi_logloss: 0.176939\tvalid_0's square_f1_score: 0.812532\n",
      "[106]\tvalid_0's multi_logloss: 0.176872\tvalid_0's square_f1_score: 0.812671\n",
      "[107]\tvalid_0's multi_logloss: 0.176753\tvalid_0's square_f1_score: 0.812815\n",
      "[108]\tvalid_0's multi_logloss: 0.176602\tvalid_0's square_f1_score: 0.812927\n",
      "[109]\tvalid_0's multi_logloss: 0.176556\tvalid_0's square_f1_score: 0.813116\n"
     ]
    },
    {
     "name": "stdout",
     "output_type": "stream",
     "text": [
      "[110]\tvalid_0's multi_logloss: 0.176573\tvalid_0's square_f1_score: 0.813056\n",
      "[111]\tvalid_0's multi_logloss: 0.176501\tvalid_0's square_f1_score: 0.813306\n",
      "[112]\tvalid_0's multi_logloss: 0.176371\tvalid_0's square_f1_score: 0.813654\n",
      "[113]\tvalid_0's multi_logloss: 0.176226\tvalid_0's square_f1_score: 0.814031\n",
      "[114]\tvalid_0's multi_logloss: 0.176198\tvalid_0's square_f1_score: 0.814146\n",
      "[115]\tvalid_0's multi_logloss: 0.176119\tvalid_0's square_f1_score: 0.814228\n",
      "[116]\tvalid_0's multi_logloss: 0.176057\tvalid_0's square_f1_score: 0.814348\n",
      "[117]\tvalid_0's multi_logloss: 0.17599\tvalid_0's square_f1_score: 0.814504\n",
      "[118]\tvalid_0's multi_logloss: 0.175913\tvalid_0's square_f1_score: 0.814573\n",
      "[119]\tvalid_0's multi_logloss: 0.175768\tvalid_0's square_f1_score: 0.814663\n",
      "[120]\tvalid_0's multi_logloss: 0.175705\tvalid_0's square_f1_score: 0.81489\n",
      "[121]\tvalid_0's multi_logloss: 0.17557\tvalid_0's square_f1_score: 0.815185\n",
      "[122]\tvalid_0's multi_logloss: 0.175528\tvalid_0's square_f1_score: 0.815248\n",
      "[123]\tvalid_0's multi_logloss: 0.175394\tvalid_0's square_f1_score: 0.815448\n",
      "[124]\tvalid_0's multi_logloss: 0.175271\tvalid_0's square_f1_score: 0.815607\n",
      "[125]\tvalid_0's multi_logloss: 0.175254\tvalid_0's square_f1_score: 0.815691\n",
      "[126]\tvalid_0's multi_logloss: 0.175177\tvalid_0's square_f1_score: 0.815379\n",
      "[127]\tvalid_0's multi_logloss: 0.175066\tvalid_0's square_f1_score: 0.815599\n",
      "[128]\tvalid_0's multi_logloss: 0.175024\tvalid_0's square_f1_score: 0.815498\n",
      "[129]\tvalid_0's multi_logloss: 0.174987\tvalid_0's square_f1_score: 0.81559\n",
      "[130]\tvalid_0's multi_logloss: 0.174945\tvalid_0's square_f1_score: 0.815778\n",
      "[131]\tvalid_0's multi_logloss: 0.174943\tvalid_0's square_f1_score: 0.816364\n",
      "[132]\tvalid_0's multi_logloss: 0.174875\tvalid_0's square_f1_score: 0.816537\n",
      "[133]\tvalid_0's multi_logloss: 0.174827\tvalid_0's square_f1_score: 0.816915\n",
      "[134]\tvalid_0's multi_logloss: 0.174818\tvalid_0's square_f1_score: 0.81672\n",
      "[135]\tvalid_0's multi_logloss: 0.174714\tvalid_0's square_f1_score: 0.816775\n",
      "[136]\tvalid_0's multi_logloss: 0.174697\tvalid_0's square_f1_score: 0.816468\n",
      "[137]\tvalid_0's multi_logloss: 0.174602\tvalid_0's square_f1_score: 0.816791\n",
      "[138]\tvalid_0's multi_logloss: 0.174534\tvalid_0's square_f1_score: 0.816978\n",
      "[139]\tvalid_0's multi_logloss: 0.174461\tvalid_0's square_f1_score: 0.81708\n",
      "[140]\tvalid_0's multi_logloss: 0.174399\tvalid_0's square_f1_score: 0.817206\n",
      "[141]\tvalid_0's multi_logloss: 0.17434\tvalid_0's square_f1_score: 0.817099\n",
      "[142]\tvalid_0's multi_logloss: 0.174307\tvalid_0's square_f1_score: 0.817028\n",
      "[143]\tvalid_0's multi_logloss: 0.174262\tvalid_0's square_f1_score: 0.817231\n",
      "[144]\tvalid_0's multi_logloss: 0.174202\tvalid_0's square_f1_score: 0.817222\n",
      "[145]\tvalid_0's multi_logloss: 0.174076\tvalid_0's square_f1_score: 0.817466\n",
      "[146]\tvalid_0's multi_logloss: 0.174014\tvalid_0's square_f1_score: 0.817879\n",
      "[147]\tvalid_0's multi_logloss: 0.173955\tvalid_0's square_f1_score: 0.817838\n",
      "[148]\tvalid_0's multi_logloss: 0.173879\tvalid_0's square_f1_score: 0.817924\n",
      "[149]\tvalid_0's multi_logloss: 0.173867\tvalid_0's square_f1_score: 0.817979\n",
      "[150]\tvalid_0's multi_logloss: 0.17384\tvalid_0's square_f1_score: 0.817817\n",
      "[151]\tvalid_0's multi_logloss: 0.173774\tvalid_0's square_f1_score: 0.817969\n",
      "[152]\tvalid_0's multi_logloss: 0.173781\tvalid_0's square_f1_score: 0.817575\n"
     ]
    }
   ],
   "source": [
    "weight_dict = {0:1, 1:1, 2:1, 3:0.7, 4:0.9, 5:1, 6:1, 7:2, 8:2, 9:2, 10:2}\n",
    "lgbm = lgb.LGBMClassifier(objective = \"multiclass\", boosting_type =  'gbdt', class_weight = None,\n",
    "                          colsample_bytree = 0.625, importance_type = 'split', learning_rate = 0.5, max_depth = 9,\n",
    "                         min_child_samples = 133, min_child_weight = 2, min_split_gain = 0.1, n_estimators = 2000, n_jobs = -1,\n",
    "                         num_leaves = 58, random_state = 10, reg_alpha = 0.0005, reg_lambda = 0.0471,  subsample = 0.9375,\n",
    "                        subsample_for_bin = 200000, subsample_freq = 1,verbosity = 0, verbose_eval = 100)\n",
    "lgbm.fit(train_x, train_y, eval_set = (eval_x, eval_y), eval_metric = square_f1_score, early_stopping_rounds = 200)"
   ]
  },
  {
   "cell_type": "code",
   "execution_count": 277,
   "metadata": {
    "ExecuteTime": {
     "end_time": "2018-10-14T07:59:36.778885Z",
     "start_time": "2018-10-14T07:59:34.715413Z"
    }
   },
   "outputs": [
    {
     "name": "stdout",
     "output_type": "stream",
     "text": [
      "0.886655465855 0.786157915131\n"
     ]
    }
   ],
   "source": [
    "pred = lgbm.predict(eval_x)\n",
    "score = f1_score(eval_y, pred, average = 'macro')\n",
    "print(score, np.square(score))"
   ]
  },
  {
   "cell_type": "code",
   "execution_count": 154,
   "metadata": {
    "ExecuteTime": {
     "end_time": "2018-10-14T00:34:08.641087Z",
     "start_time": "2018-10-14T00:34:08.636090Z"
    }
   },
   "outputs": [],
   "source": [
    "from sklearn.metrics import classification_report"
   ]
  },
  {
   "cell_type": "code",
   "execution_count": 306,
   "metadata": {},
   "outputs": [
    {
     "name": "stderr",
     "output_type": "stream",
     "text": [
      "/usr/local/lib/python3.6/site-packages/sklearn/preprocessing/label.py:151: DeprecationWarning: The truth value of an empty array is ambiguous. Returning False, but in future this will result in an error. Use `array.size > 0` to check that an array is not empty.\n",
      "  if diff:\n"
     ]
    }
   ],
   "source": [
    "test_feature = test.drop(['user_id'], axis = 1)\n",
    "TestResult = test[['user_id']].copy()\n",
    "TestResult['predict']  = lgbm.predict(test_feature)\n",
    "TestResult['predict'] = TestResult['predict'].apply(lambda x: label_dict[x])"
   ]
  },
  {
   "cell_type": "code",
   "execution_count": 307,
   "metadata": {},
   "outputs": [],
   "source": [
    "TestResult.to_csv(\"../lgb8404.csv\", index = None)"
   ]
  },
  {
   "cell_type": "code",
   "execution_count": 308,
   "metadata": {},
   "outputs": [
    {
     "name": "stdout",
     "output_type": "stream",
     "text": [
      "194973\n",
      "194730\n",
      "198897\n"
     ]
    }
   ],
   "source": [
    "complex_pred = pd.read_csv(\"../lgb_xgb_complex_co1008.csv\")\n",
    "xgb_pred = pd.read_csv(\"../xgb_ox_2799743984766_0.8280.csv\")\n",
    "print(np.sum(TestResult.predict == complex_pred.predict))\n",
    "print(np.sum(TestResult.predict == xgb_pred.predict))\n",
    "print(np.sum(complex_pred.predict == xgb_pred.predict))"
   ]
  },
  {
   "cell_type": "code",
   "execution_count": 191,
   "metadata": {
    "ExecuteTime": {
     "end_time": "2018-10-14T06:34:35.337726Z",
     "start_time": "2018-10-14T06:34:35.275761Z"
    },
    "scrolled": false
   },
   "outputs": [
    {
     "name": "stdout",
     "output_type": "stream",
     "text": [
      "             precision    recall  f1-score   support\n",
      "\n",
      "          0      0.992     0.996     0.994    216763\n",
      "          1      0.848     0.735     0.787      6433\n",
      "\n",
      "avg / total      0.988     0.989     0.988    223196\n",
      "\n",
      "{0: 89950166, 1: 89950167, 2: 89950168, 3: 90063345, 4: 90109916, 5: 90155946, 6: 99999825, 7: 99999826, 8: 99999827, 9: 99999828, 10: 99999830, 99999825: 6, 99999826: 7, 99999827: 8, 99999828: 9, 89950166: 0, 89950167: 1, 89950168: 2, 99999830: 10, 90109916: 4, 90155946: 5, 90063345: 3}\n",
      "\n"
     ]
    }
   ],
   "source": [
    "from sklearn.metrics import classification_report\n",
    "print(classification_report(eval_y, pred, digits = 3))\n",
    "print(label_dict, end = \"\\n\\n\")"
   ]
  },
  {
   "cell_type": "code",
   "execution_count": 146,
   "metadata": {},
   "outputs": [
    {
     "ename": "SyntaxError",
     "evalue": "invalid syntax (<ipython-input-146-4b7186522729>, line 1)",
     "output_type": "error",
     "traceback": [
      "\u001b[1;36m  File \u001b[1;32m\"<ipython-input-146-4b7186522729>\"\u001b[1;36m, line \u001b[1;32m1\u001b[0m\n\u001b[1;33m    precision    recall  f1-score   support\u001b[0m\n\u001b[1;37m                      ^\u001b[0m\n\u001b[1;31mSyntaxError\u001b[0m\u001b[1;31m:\u001b[0m invalid syntax\n"
     ]
    }
   ],
   "source": [
    "      precision    recall  f1-score   support\n",
    "\n",
    "          0      0.917     0.926     0.922     40270\n",
    "          1      0.878     0.868     0.873     22125\n",
    "          2      0.966     0.928     0.947     10030\n",
    "          3      0.999     0.995     0.997     85873\n",
    "          4      0.995     0.996     0.996     11329\n",
    "          5      0.943     0.985     0.964      6665\n",
    "          6      0.941     0.959     0.950      6114\n",
    "          7      0.782     0.854     0.817      8738\n",
    "          8      0.765     0.768     0.766      9679\n",
    "          9      0.826     0.810     0.818     15940\n",
    "         10      0.787     0.741     0.763      6433\n",
    "\n",
    "avg / total      0.930     0.930     0.930    223196"
   ]
  },
  {
   "cell_type": "code",
   "execution_count": 155,
   "metadata": {
    "ExecuteTime": {
     "end_time": "2018-10-14T04:31:17.526255Z",
     "start_time": "2018-10-14T04:31:17.514260Z"
    }
   },
   "outputs": [
    {
     "data": {
      "text/plain": [
       "[('contract_time_21', 0),\n",
       " ('contract_time_26', 0),\n",
       " ('contract_time_27', 0),\n",
       " ('contract_time_28', 0),\n",
       " ('contract_time_8', 0),\n",
       " ('contract_time_16', 0),\n",
       " ('contract_time_25', 0),\n",
       " ('contract_time_12', 0),\n",
       " ('contract_time_20', 0),\n",
       " ('contract_time_7', 0),\n",
       " ('contract_time_5', 19),\n",
       " ('contract_time_6', 20),\n",
       " ('contract_time_-1', 21),\n",
       " ('contract_time_14', 25),\n",
       " ('contract_time_9', 26),\n",
       " ('contract_time_22', 35),\n",
       " ('contract_time_13', 36),\n",
       " ('gender1', 38),\n",
       " ('contract_time_17', 39),\n",
       " ('contract_time_23', 43),\n",
       " ('contract_time_19', 48),\n",
       " ('contract_time_15', 48),\n",
       " ('contract_time_11', 65),\n",
       " ('gender2', 98),\n",
       " ('is_mix_service', 119),\n",
       " ('contract_time_24', 125),\n",
       " ('gender0', 130),\n",
       " ('contract_time_29', 150),\n",
       " ('contract_time_18', 160),\n",
       " ('service_type', 161),\n",
       " ('contract_time_36', 254),\n",
       " ('contract_type', 254),\n",
       " ('contract_time_0', 259),\n",
       " ('contract_time_10', 267),\n",
       " ('contract_time_34', 268),\n",
       " ('contract_time_39', 315),\n",
       " ('many_over_bill', 404),\n",
       " ('contract_time_45', 430),\n",
       " ('contract_time_30', 570),\n",
       " ('service1_caller_time', 651),\n",
       " ('contract_time_35', 664),\n",
       " ('contract_time_37', 776),\n",
       " ('s1_s2_caller_time', 783),\n",
       " ('r_last_month_traffic', 822),\n",
       " ('contract_time_33', 971),\n",
       " ('local_caller_time', 1255),\n",
       " ('2_total_fee', 1280),\n",
       " ('r_local_month_traffic', 1305),\n",
       " ('s2_local_caller_time', 1362),\n",
       " ('local_trafffic_month', 1381),\n",
       " ('contract_time_40', 1465),\n",
       " ('max_fee', 1477),\n",
       " ('2_4_total_fee_n', 1561),\n",
       " ('3_total_fee', 1566),\n",
       " ('2_3_total_fee_n', 1575),\n",
       " ('non_local_trafffic_month', 1592),\n",
       " ('month_traffic', 1600),\n",
       " ('1_3_total_fee_n', 1612),\n",
       " ('contract_time_43', 1621),\n",
       " ('contract_time_31', 1633),\n",
       " ('3_4_total_fee_n', 1687),\n",
       " ('1_2_total_fee_n', 1737),\n",
       " ('age', 1771),\n",
       " ('4_total_fee', 1788),\n",
       " ('last_month_traffic', 1882),\n",
       " ('1_total_fee', 2024),\n",
       " ('contract_time_32', 2084),\n",
       " ('online_time', 2453),\n",
       " ('min_fee', 2493),\n",
       " ('service2_caller_time', 2544)]"
      ]
     },
     "execution_count": 155,
     "metadata": {},
     "output_type": "execute_result"
    }
   ],
   "source": [
    "sorted(dict(zip(du_x.columns, lgbm.feature_importances_)).items(), key = lambda x:x[1])"
   ]
  },
  {
   "cell_type": "code",
   "execution_count": 235,
   "metadata": {},
   "outputs": [
    {
     "name": "stdout",
     "output_type": "stream",
     "text": [
      "0 0.178\n",
      "1 0.099\n",
      "2 0.045\n",
      "3 0.387\n",
      "4 0.051\n",
      "5 0.03\n",
      "6 0.027\n",
      "7 0.039\n",
      "8 0.044\n",
      "9 0.071\n",
      "10 0.028\n",
      "520790\n",
      "\n",
      "89950166 0.084\n",
      "89950167 0.101\n",
      "89950168 0.019\n",
      "90063345 0.58\n",
      "90109916 0.05\n",
      "90155946 0.035\n",
      "99999825 0.015\n",
      "99999826 0.026\n",
      "99999827 0.022\n",
      "99999828 0.045\n",
      "99999830 0.023\n",
      "200000\n",
      "\n",
      "89950166 0.085\n",
      "89950167 0.102\n",
      "89950168 0.019\n",
      "90063345 0.58\n",
      "90109916 0.05\n",
      "90155946 0.035\n",
      "99999825 0.016\n",
      "99999826 0.028\n",
      "99999827 0.021\n",
      "99999828 0.044\n",
      "99999830 0.021\n",
      "200000\n",
      "\n",
      "89950166 0.086\n",
      "89950167 0.102\n",
      "89950168 0.019\n",
      "90063345 0.58\n",
      "90109916 0.05\n",
      "90155946 0.035\n",
      "99999825 0.016\n",
      "99999826 0.028\n",
      "99999827 0.021\n",
      "99999828 0.044\n",
      "99999830 0.02\n",
      "200000\n",
      "\n"
     ]
    }
   ],
   "source": [
    "\n",
    "def print_stats(tdf):\n",
    "    dct = Counter(tdf)\n",
    "    cn = len(tdf)\n",
    "    for key in sorted(dct.keys()):\n",
    "        print(key, round(dct[key]/cn, 3))\n",
    "    print(cn, end = \"\\n\\n\")\n",
    "print_stats(train_y)\n",
    "print_stats(TestResult.predict)\n",
    "print_stats(xgb_pred.predict)\n",
    "print_stats(complex_pred.predict)"
   ]
  },
  {
   "cell_type": "code",
   "execution_count": null,
   "metadata": {},
   "outputs": [],
   "source": []
  }
 ],
 "metadata": {
  "kernelspec": {
   "display_name": "Python 3",
   "language": "python",
   "name": "python3"
  },
  "language_info": {
   "codemirror_mode": {
    "name": "ipython",
    "version": 3
   },
   "file_extension": ".py",
   "mimetype": "text/x-python",
   "name": "python",
   "nbconvert_exporter": "python",
   "pygments_lexer": "ipython3",
   "version": "3.5.5"
  }
 },
 "nbformat": 4,
 "nbformat_minor": 2
}
