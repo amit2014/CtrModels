{
 "cells": [
  {
   "cell_type": "code",
   "execution_count": 584,
   "metadata": {},
   "outputs": [],
   "source": [
    "import pandas as pd\n",
    "import numpy as np\n",
    "import lightgbm as lgb\n",
    "from sklearn.model_selection import train_test_split\n",
    "from sklearn.metrics import f1_score\n",
    "from sklearn.linear_model import LogisticRegression\n",
    "from sklearn.preprocessing import OneHotEncoder\n",
    "from sklearn.model_selection import cross_val_score\n",
    "from sklearn.model_selection import StratifiedKFold\n",
    "import matplotlib.pyplot as plt\n",
    "from scipy.sparse import coo_matrix, hstack\n",
    "from sklearn.cluster import KMeans\n",
    "import pickle\n",
    "from collections import Counter\n",
    "def savePickle(target, filename):\n",
    "    with open(filename, \"wb\") as f:\n",
    "        pickle.dump(target, f)\n",
    "def loadPickle(filename):\n",
    "    with open(filename, \"rb\") as f:\n",
    "        return pickle.load(f)"
   ]
  },
  {
   "cell_type": "code",
   "execution_count": 554,
   "metadata": {},
   "outputs": [],
   "source": [
    "train = loadPickle(\"./data/train.pkl\")\n",
    "test = loadPickle(\"./data/test.pkl\")"
   ]
  },
  {
   "cell_type": "code",
   "execution_count": 555,
   "metadata": {},
   "outputs": [],
   "source": [
    "categoryes = sorted(train['current_service'].unique())\n",
    "label_dict = {}\n",
    "for i in range(len(categoryes)):\n",
    "    label_dict[categoryes[i]] = i\n",
    "    label_dict[i] = categoryes[i]"
   ]
  },
  {
   "cell_type": "markdown",
   "metadata": {},
   "source": [
    " - 1_total_fee array([ 0.39827125,  0.39316978,  0.39571121])\n",
    " - 2_total_fee _array([ 0.34979964,  0.35166863,  0.35014922])\n",
    " - 3_total_fee array([ 0.34979964,  0.35166863,  0.35014922])\n",
    " - 4_total_fee  array([ 0.3525123 ,  0.35381964,  0.35444017])\n",
    " - 1234 array([ 0.56280605,  0.56499034,  0.56352438])\n",
    " c =  array([ 0.29369751,  0.29296579,  0.29410951])\n",
    " ---------------------------------------------------\n",
    " ####  total fee\n",
    "  - 1234 0.5604\n",
    "  - 1234 + 1/2 0.5630\n",
    "  - 1234 +1/2 1/3 0.5648\n",
    "  - 1234 + 1/2+1/3+2/4 0.5651\n",
    "  - 1234 + 1/2 1/3 1/4 2/3 2/4 0.5662\n",
    "  - 1234 + 1/2 1/3 1/4 2/3 2/4 1/234 0.5665\n",
    "  - 1234 + 1/2 1/3 1/4 2/3 2/4 3/4 1/234 0.5674\n",
    "  \n",
    "#### traffic\n",
    "  - fee + local 0.5994\n",
    "  - fee + local + last 0.7095\n",
    "  - fee + local _ last + month 0.7472\n",
    "  - fee + local _ last + month +  last/month 0.7476\n",
    "  - fee + local _ last + month +  last/month local/month 0.7493\n",
    "  \n",
    "#### call\n",
    "  -  fee + traffic + local 0.7519\n",
    "  -  fee + traffic + local + service1 0.7850\n",
    "  -  fee + traffic + local + service1 + service2  0.8160\n",
    "  -  fee + traffic + local + service1 + service2 + s2/local 0.8162\n",
    "  \n",
    "#### nature\n",
    "  - fee + traffic + call + age  0.8184\n",
    "  - fee + traffic + call + age + gender 0.8189\n",
    "  \n",
    "#### statistics\n",
    "  - fee + traffic + call + age + onlinetime 0.0.8280\n",
    "  - fee + traffic + call + age + onlinetime + service_type 0.8352\n",
    "  - fee + traffic + call + age + onlinetime + service_type + is_mix_type 0.8362\n",
    "  - ... +  many_over_bill 0.8443\n",
    "  - ... +  contract_type 0.8496\n",
    "  - ... + contract_time 0.8683\n",
    "  - ... + is_promise_low_consume 0.8689\n",
    "  - ... + pay_times 0.8690\n",
    "  - ... + pay_num 0.8693\n",
    "#### cross feature\n",
    "  - ... + traffic/fee 0.8699\n",
    "  - ... + traffic/call 0.8701"
   ]
  },
  {
   "cell_type": "code",
   "execution_count": 617,
   "metadata": {},
   "outputs": [],
   "source": [
    "\n",
    "weight_dict = {0:105, 1:110, 2:125, 3:103, 4:120, 5:133, 6:134, 7:125, 8:124, 9:111, 10:135}\n",
    "lgbm = lgb.LGBMClassifier(objective = \"multiclass\", boosting_type =  'gbdt',\n",
    "                          colsample_bytree = 0.625, importance_type = 'split', learning_rate = 0.25, max_depth = 9,\n",
    "                         min_child_samples = 133, min_child_weight = 2, min_split_gain = 0.1, n_estimators = 600, n_jobs = -1,\n",
    "                         num_leaves = 58, random_state = 10, reg_alpha = 0.0005, reg_lambda = 0.0471,  subsample = 0.9375,\n",
    "                        subsample_for_bin = 20000, subsample_freq = 1,verbosity = 0)\n",
    "\n",
    "# lgbm = lgb.LGBMClassifier(objective = \"multiclass\",  boosting_type =  'gbdt', random_state = 10, n_jobs = -1, class_weight = weight_dict)\n",
    "lr = LogisticRegression()\n",
    "enc = OneHotEncoder()"
   ]
  },
  {
   "cell_type": "code",
   "execution_count": 618,
   "metadata": {},
   "outputs": [
    {
     "name": "stderr",
     "output_type": "stream",
     "text": [
      "C:\\Users\\leo\\Anaconda3\\envs\\tensorflow_gpu\\lib\\site-packages\\ipykernel_launcher.py:2: RuntimeWarning: divide by zero encountered in true_divide\n",
      "  \n",
      "C:\\Users\\leo\\Anaconda3\\envs\\tensorflow_gpu\\lib\\site-packages\\ipykernel_launcher.py:2: RuntimeWarning: invalid value encountered in true_divide\n",
      "  \n",
      "C:\\Users\\leo\\Anaconda3\\envs\\tensorflow_gpu\\lib\\site-packages\\ipykernel_launcher.py:3: RuntimeWarning: divide by zero encountered in true_divide\n",
      "  This is separate from the ipykernel package so we can avoid doing imports until\n",
      "C:\\Users\\leo\\Anaconda3\\envs\\tensorflow_gpu\\lib\\site-packages\\ipykernel_launcher.py:3: RuntimeWarning: invalid value encountered in true_divide\n",
      "  This is separate from the ipykernel package so we can avoid doing imports until\n",
      "C:\\Users\\leo\\Anaconda3\\envs\\tensorflow_gpu\\lib\\site-packages\\ipykernel_launcher.py:4: RuntimeWarning: divide by zero encountered in true_divide\n",
      "  after removing the cwd from sys.path.\n",
      "C:\\Users\\leo\\Anaconda3\\envs\\tensorflow_gpu\\lib\\site-packages\\ipykernel_launcher.py:4: RuntimeWarning: invalid value encountered in true_divide\n",
      "  after removing the cwd from sys.path.\n",
      "C:\\Users\\leo\\Anaconda3\\envs\\tensorflow_gpu\\lib\\site-packages\\ipykernel_launcher.py:5: RuntimeWarning: divide by zero encountered in true_divide\n",
      "  \"\"\"\n",
      "C:\\Users\\leo\\Anaconda3\\envs\\tensorflow_gpu\\lib\\site-packages\\ipykernel_launcher.py:5: RuntimeWarning: invalid value encountered in true_divide\n",
      "  \"\"\"\n",
      "C:\\Users\\leo\\Anaconda3\\envs\\tensorflow_gpu\\lib\\site-packages\\ipykernel_launcher.py:6: RuntimeWarning: divide by zero encountered in true_divide\n",
      "  \n",
      "C:\\Users\\leo\\Anaconda3\\envs\\tensorflow_gpu\\lib\\site-packages\\ipykernel_launcher.py:6: RuntimeWarning: invalid value encountered in true_divide\n",
      "  \n",
      "C:\\Users\\leo\\Anaconda3\\envs\\tensorflow_gpu\\lib\\site-packages\\ipykernel_launcher.py:12: RuntimeWarning: divide by zero encountered in true_divide\n",
      "  if sys.path[0] == '':\n",
      "C:\\Users\\leo\\Anaconda3\\envs\\tensorflow_gpu\\lib\\site-packages\\ipykernel_launcher.py:12: RuntimeWarning: invalid value encountered in true_divide\n",
      "  if sys.path[0] == '':\n",
      "C:\\Users\\leo\\Anaconda3\\envs\\tensorflow_gpu\\lib\\site-packages\\ipykernel_launcher.py:13: RuntimeWarning: divide by zero encountered in true_divide\n",
      "  del sys.path[0]\n",
      "C:\\Users\\leo\\Anaconda3\\envs\\tensorflow_gpu\\lib\\site-packages\\ipykernel_launcher.py:13: RuntimeWarning: invalid value encountered in true_divide\n",
      "  del sys.path[0]\n",
      "C:\\Users\\leo\\Anaconda3\\envs\\tensorflow_gpu\\lib\\site-packages\\ipykernel_launcher.py:19: RuntimeWarning: divide by zero encountered in true_divide\n",
      "C:\\Users\\leo\\Anaconda3\\envs\\tensorflow_gpu\\lib\\site-packages\\ipykernel_launcher.py:19: RuntimeWarning: invalid value encountered in true_divide\n",
      "C:\\Users\\leo\\Anaconda3\\envs\\tensorflow_gpu\\lib\\site-packages\\ipykernel_launcher.py:20: RuntimeWarning: divide by zero encountered in true_divide\n",
      "C:\\Users\\leo\\Anaconda3\\envs\\tensorflow_gpu\\lib\\site-packages\\ipykernel_launcher.py:20: RuntimeWarning: invalid value encountered in true_divide\n",
      "C:\\Users\\leo\\Anaconda3\\envs\\tensorflow_gpu\\lib\\site-packages\\ipykernel_launcher.py:53: RuntimeWarning: divide by zero encountered in true_divide\n",
      "C:\\Users\\leo\\Anaconda3\\envs\\tensorflow_gpu\\lib\\site-packages\\ipykernel_launcher.py:53: RuntimeWarning: invalid value encountered in true_divide\n"
     ]
    }
   ],
   "source": [
    "features = train[['1_total_fee', '2_total_fee', '3_total_fee', '4_total_fee']].copy()\n",
    "features['1_2_total_fee_n'] = np.array(features['1_total_fee'])/np.array(features['2_total_fee'])\n",
    "features['1_3_total_fee_n'] = np.array(features['1_total_fee'])/np.array(features['3_total_fee'])\n",
    "features['2_4_total_fee_n'] = np.array(features['2_total_fee'])/np.array(features['4_total_fee'])\n",
    "features['2_3_total_fee_n'] = np.array(features['2_total_fee'])/np.array(features['3_total_fee'])\n",
    "features['3_4_total_fee_n'] = np.array(features['3_total_fee'])/np.array(features['4_total_fee'])\n",
    "\n",
    "# traficc\n",
    "features['local_trafffic_month'] = train['local_trafffic_month']\n",
    "features['last_month_traffic'] = train['last_month_traffic']\n",
    "features['month_traffic'] = train['month_traffic']\n",
    "features['r_last_month_traffic'] = np.array(train['last_month_traffic'])/np.array(train['month_traffic'])\n",
    "features['r_local_month_traffic'] = np.array(train['local_trafffic_month'])/np.array(train['month_traffic'])\n",
    "\n",
    "#call\n",
    "features['local_caller_time'] = train['local_caller_time']\n",
    "features['service1_caller_time'] = train['service1_caller_time']\n",
    "features['service2_caller_time'] = train['service2_caller_time']\n",
    "features['s2_local_caller_time'] = np.array(train['service2_caller_time'])/np.array(train['local_caller_time'])\n",
    "features['s1_s2_caller_time'] = np.array(train['service1_caller_time'])/np.array(train['service2_caller_time'])\n",
    "\n",
    "#nature\n",
    "features['age'] = train['age']\n",
    "features['gender0'] = np.array(train['gender'] == 0).astype(int)\n",
    "features['gender1'] = np.array(train['gender'] == 1).astype(int)\n",
    "features['gender2'] = np.array(train['gender'] == 2).astype(int)\n",
    "\n",
    "#other\n",
    "features['online_time'] = train['online_time']\n",
    "features['service_type'] = np.array(train['service_type'] == 4).astype(int)\n",
    "features['service_type'] = np.array(train['service_type'] == 1).astype(int)\n",
    "features['is_mix_service'] = train['is_mix_service']\n",
    "features['many_over_bill'] = train['many_over_bill']\n",
    "features['contract_type'] = np.array(train['contract_type'] == 0).astype(int)\n",
    "features['contract_type'] = np.array(train['contract_type'] == 1).astype(int)\n",
    "features['contract_type'] = np.array(train['contract_type'] == 2).astype(int)\n",
    "features['contract_type'] = np.array(train['contract_type'] == 3).astype(int)\n",
    "features['contract_type'] = np.array(train['contract_type'] == 6).astype(int)\n",
    "features['contract_type'] = np.array(train['contract_type'] == 7).astype(int)\n",
    "features['contract_type'] = np.array(train['contract_type'] == 8).astype(int)\n",
    "features['contract_type'] = np.array(train['contract_type'] == 9).astype(int)\n",
    "features['contract_type'] = np.array(train['contract_type'] == 8).astype(int)\n",
    "features['contract_type'] = np.array(train['contract_type'] == 12).astype(int)\n",
    "for t in sorted(train['contract_time'].unique()):\n",
    "    features['contract_time_%d'%t] = np.array(train['contract_time'] == t).astype(int)\n",
    "features['is_promise_low_consume'] = train['is_promise_low_consume']\n",
    "# for t in sorted(train['net_service'].unique()):\n",
    "#     features['net_service_%d'%t] = np.array(train['net_service'] == t).astype(int) not good\n",
    "features['pay_times'] = train['pay_times']\n",
    "features['pay_num'] = train['pay_num']\n",
    "\n",
    "# cross\n",
    "features['traffic_fee'] = np.array(train['month_traffic'])/np.array(train['1_total_fee'])\n",
    "features = features.fillna(-1)"
   ]
  },
  {
   "cell_type": "code",
   "execution_count": 619,
   "metadata": {},
   "outputs": [],
   "source": [
    "train_x = np.array(features).astype(float)\n",
    "train_y = np.array(train['current_service'].apply(lambda x:label_dict[x]))"
   ]
  },
  {
   "cell_type": "code",
   "execution_count": 620,
   "metadata": {},
   "outputs": [
    {
     "name": "stdout",
     "output_type": "stream",
     "text": [
      "0 0.179\n",
      "1 0.098\n",
      "2 0.045\n",
      "3 0.386\n",
      "4 0.051\n",
      "5 0.03\n",
      "6 0.028\n",
      "7 0.039\n",
      "8 0.044\n",
      "9 0.071\n",
      "10 0.028\n",
      "300000\n",
      "\n"
     ]
    }
   ],
   "source": [
    "def print_stats(tdf):\n",
    "    dct = Counter(tdf)\n",
    "    cn = len(tdf)\n",
    "    for key in dct.keys():\n",
    "        print(key, round(dct[key]/cn, 3))\n",
    "    print(cn, end = \"\\n\\n\")\n",
    "print_stats(train_y)"
   ]
  },
  {
   "cell_type": "code",
   "execution_count": 621,
   "metadata": {},
   "outputs": [],
   "source": [
    "# kmeans1 = KMeans(n_clusters=10,  n_jobs = -1, random_state = 2018).fit(train_x)\n",
    "# train_c = kmeans1.predict(train_x)\n",
    "# train_c = train_c.reshape(-1,1)\n",
    "# train_c = enc.fit_transform(train_c)\n",
    "# train_co = hstack((train_x, train_c))"
   ]
  },
  {
   "cell_type": "code",
   "execution_count": 622,
   "metadata": {},
   "outputs": [
    {
     "name": "stderr",
     "output_type": "stream",
     "text": [
      "[Parallel(n_jobs=-1)]: Done   3 out of   3 | elapsed: 12.1min finished\n"
     ]
    }
   ],
   "source": [
    "scores = cross_val_score(lgbm, train_x, train_y, scoring = 'f1_macro', cv  = 3, n_jobs  = -1, verbose = 2)"
   ]
  },
  {
   "cell_type": "code",
   "execution_count": 625,
   "metadata": {},
   "outputs": [
    {
     "name": "stdout",
     "output_type": "stream",
     "text": [
      "0.88399363589\n",
      "0.781444748294\n"
     ]
    }
   ],
   "source": [
    "print(np.mean(scores))\n",
    "print(np.square(np.mean(scores)))"
   ]
  },
  {
   "cell_type": "code",
   "execution_count": 624,
   "metadata": {},
   "outputs": [
    {
     "data": {
      "text/plain": [
       "(300000, 71)"
      ]
     },
     "execution_count": 624,
     "metadata": {},
     "output_type": "execute_result"
    }
   ],
   "source": [
    "train_x.shape"
   ]
  },
  {
   "cell_type": "code",
   "execution_count": 407,
   "metadata": {},
   "outputs": [
    {
     "data": {
      "text/plain": [
       "[<matplotlib.lines.Line2D at 0x25601047f60>]"
      ]
     },
     "execution_count": 407,
     "metadata": {},
     "output_type": "execute_result"
    },
    {
     "data": {
      "image/png": "[encoded data removed]",
      "text/plain": [
       "<Figure size 432x288 with 1 Axes>"
      ]
     },
     "metadata": {},
     "output_type": "display_data"
    }
   ],
   "source": [
    "plt.plot(sorted(train[train['current_service'] == 99999825]['former_complaint_num']))"
   ]
  },
  {
   "cell_type": "code",
   "execution_count": 406,
   "metadata": {},
   "outputs": [
    {
     "data": {
      "text/plain": [
       "[<matplotlib.lines.Line2D at 0x25600d5cf28>]"
      ]
     },
     "execution_count": 406,
     "metadata": {},
     "output_type": "execute_result"
    },
    {
     "data": {
      "image/png": "[encoded data removed]",
      "text/plain": [
       "<Figure size 432x288 with 1 Axes>"
      ]
     },
     "metadata": {},
     "output_type": "display_data"
    }
   ],
   "source": [
    "plt.plot(sorted(train[train['current_service'] == 99999826]['former_complaint_num']))"
   ]
  },
  {
   "cell_type": "code",
   "execution_count": 465,
   "metadata": {},
   "outputs": [
    {
     "data": {
      "text/plain": [
       "[0, 1, 2]"
      ]
     },
     "execution_count": 465,
     "metadata": {},
     "output_type": "execute_result"
    }
   ],
   "source": [
    "sorted(train['gender'].unique())"
   ]
  },
  {
   "cell_type": "code",
   "execution_count": 341,
   "metadata": {},
   "outputs": [
    {
     "data": {
      "text/plain": [
       "Index(['1_total_fee', '2_total_fee', '3_total_fee', '4_total_fee',\n",
       "       '1_2_total_fee_n', '1_3_total_fee_n', '2_4_total_fee_n',\n",
       "       '2_3_total_fee_n', '3_4_total_fee_n', 'local_trafffic_month',\n",
       "       'last_month_traffic', 'month_traffic', 'r_last_month_traffic',\n",
       "       'r_local_month_traffic', 'local_caller_time', 'service1_caller_time',\n",
       "       'service2_caller_time', 's2_local_caller_time', 's1_s2_caller_time',\n",
       "       'age', 'gender0', 'gender1', 'gender2', 'online_time', 'service_type',\n",
       "       'is_mix_service', 'many_over_bill', 'contract_type', 'contract_time'],\n",
       "      dtype='object')"
      ]
     },
     "execution_count": 341,
     "metadata": {},
     "output_type": "execute_result"
    }
   ],
   "source": [
    "features.columns"
   ]
  },
  {
   "cell_type": "code",
   "execution_count": 286,
   "metadata": {},
   "outputs": [
    {
     "data": {
      "text/plain": [
       "Index(['service_type', 'is_mix_service', 'online_time', '1_total_fee',\n",
       "       '2_total_fee', '3_total_fee', '4_total_fee', 'month_traffic',\n",
       "       'many_over_bill', 'contract_type', 'contract_time',\n",
       "       'is_promise_low_consume', 'net_service', 'pay_times', 'pay_num',\n",
       "       'last_month_traffic', 'local_trafffic_month', 'local_caller_time',\n",
       "       'service1_caller_time', 'service2_caller_time', 'gender', 'age',\n",
       "       'complaint_level', 'former_complaint_num', 'former_complaint_fee',\n",
       "       'current_service', 'user_id'],\n",
       "      dtype='object')"
      ]
     },
     "execution_count": 286,
     "metadata": {},
     "output_type": "execute_result"
    }
   ],
   "source": [
    "train.columns"
   ]
  },
  {
   "cell_type": "code",
   "execution_count": 437,
   "metadata": {},
   "outputs": [
    {
     "data": {
      "text/plain": [
       "{'boosting_type': 'gbdt',\n",
       " 'class_weight': None,\n",
       " 'colsample_bytree': 1.0,\n",
       " 'learning_rate': 0.1,\n",
       " 'max_depth': -1,\n",
       " 'min_child_samples': 20,\n",
       " 'min_child_weight': 0.001,\n",
       " 'min_split_gain': 0.0,\n",
       " 'n_estimators': 100,\n",
       " 'n_jobs': -1,\n",
       " 'num_leaves': 31,\n",
       " 'objective': 'multiclass',\n",
       " 'random_state': None,\n",
       " 'reg_alpha': 0.0,\n",
       " 'reg_lambda': 0.0,\n",
       " 'silent': True,\n",
       " 'subsample': 1.0,\n",
       " 'subsample_for_bin': 200000,\n",
       " 'subsample_freq': 1}"
      ]
     },
     "execution_count": 437,
     "metadata": {},
     "output_type": "execute_result"
    }
   ],
   "source": [
    "lgbm.get_params()"
   ]
  },
  {
   "cell_type": "code",
   "execution_count": null,
   "metadata": {},
   "outputs": [],
   "source": []
  }
 ],
 "metadata": {
  "kernelspec": {
   "display_name": "Python 3",
   "language": "python",
   "name": "python3"
  },
  "language_info": {
   "codemirror_mode": {
    "name": "ipython",
    "version": 3
   },
   "file_extension": ".py",
   "mimetype": "text/x-python",
   "name": "python",
   "nbconvert_exporter": "python",
   "pygments_lexer": "ipython3",
   "version": "3.5.5"
  }
 },
 "nbformat": 4,
 "nbformat_minor": 2
}
