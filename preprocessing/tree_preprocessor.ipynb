{
 "cells": [
  {
   "cell_type": "code",
   "execution_count": 26,
   "metadata": {},
   "outputs": [],
   "source": [
    "import pandas as pd\n",
    "import numpy as np\n",
    "import gc\n",
    "import lightgbm as lgb\n",
    "from sklearn.model_selection import train_test_split\n",
    "from sklearn.metrics import accuracy_score\n",
    "from sklearn.metrics import f1_score\n",
    "from sklearn.linear_model import LogisticRegression\n",
    "from sklearn.preprocessing import OneHotEncoder\n",
    "import matplotlib.pyplot as plt\n",
    "from sklearn.cluster import KMeans"
   ]
  },
  {
   "cell_type": "code",
   "execution_count": 27,
   "metadata": {},
   "outputs": [],
   "source": [
    "import pickle\n",
    "def savePickle(target, filename):\n",
    "    with open(filename, \"wb\") as f:\n",
    "        pickle.dump(target, f)\n",
    "        \n",
    "def loadPickle(filename):\n",
    "    with open(filename, \"rb\") as f:\n",
    "        return pickle.load(f)\n",
    "    \n",
    "def getLabelDict(labelDataFrame):\n",
    "    label_dict = {}\n",
    "    i = 0\n",
    "    for c in labelDataFrame.columns:\n",
    "        label_dict[i] = c[3:]\n",
    "        label_dict[c[3:]] = i\n",
    "        i = i + 1\n",
    "    return label_dict"
   ]
  },
  {
   "cell_type": "code",
   "execution_count": 28,
   "metadata": {},
   "outputs": [],
   "source": [
    "train = pd.read_csv(\"./data/train_all.csv\",low_memory =False)\n",
    "test = pd.read_csv(\"./data/republish_test.csv\", low_memory =False)"
   ]
  },
  {
   "cell_type": "code",
   "execution_count": 29,
   "metadata": {},
   "outputs": [],
   "source": [
    "#测试集，因为确定的是中间两个月的消费数据，可以用前后月的消费数据计算得到。\n",
    "test.loc[test['2_total_fee'] == '\\\\N','3_total_fee'] = test.loc[test['2_total_fee'] == '\\\\N','1_total_fee']*0.25 + test.loc[test['2_total_fee'] == '\\\\N','4_total_fee']*0.75\n",
    "test.loc[test['2_total_fee'] == '\\\\N','2_total_fee'] = test.loc[test['2_total_fee'] == '\\\\N','1_total_fee']*0.75 + test.loc[test['2_total_fee'] == '\\\\N','4_total_fee']*0.25\n",
    "test.loc[test['3_total_fee'] == '\\\\N','3_total_fee'] = test.loc[test['3_total_fee'] == '\\\\N','1_total_fee']*0.2 + test.loc[test['3_total_fee'] == '\\\\N','4_total_fee']*0.75\n",
    "#训练集， 直接清除所有确实值记录，这很少，不影响结果\n",
    "train = train[train['2_total_fee'] != '\\\\N']\n",
    "train = train[train['3_total_fee'] != '\\\\N']\n",
    "train = train[train['gender'] != '\\\\N']\n",
    "train = train[train['age'] != '\\\\N'].copy()\n",
    "\n",
    "train['2_total_fee'] = train['2_total_fee'].apply(float)\n",
    "train['3_total_fee'] = train['3_total_fee'].apply(float)\n",
    "train['gender'] = train['gender'].apply(int)\n",
    "train['age'] = train['age'].apply(int)"
   ]
  },
  {
   "cell_type": "code",
   "execution_count": 30,
   "metadata": {},
   "outputs": [],
   "source": [
    "#将训练集与测试集合并，这样特征处理就可以一致\n",
    "test['current_service'] = -1\n",
    "data = train.append(test)\n",
    "data['2_total_fee'] = data['2_total_fee'].apply(float)\n",
    "data['3_total_fee'] = data['3_total_fee'].apply(float)\n",
    "data['gender'] = data['gender'].apply(int)\n",
    "data['age'] = data['age'].apply(int)"
   ]
  },
  {
   "cell_type": "code",
   "execution_count": 31,
   "metadata": {},
   "outputs": [],
   "source": [
    "category_features = ['complaint_level','contract_type','gender', 'is_mix_service', 'is_promise_low_consume',\n",
    "                     'many_over_bill','net_service','service_type']\n",
    "floatcontinous_features = ['1_total_fee', '2_total_fee', '3_total_fee', '4_total_fee','former_complaint_fee',\n",
    "                           'last_month_traffic',       'local_caller_time', 'local_trafffic_month', \n",
    "                           'month_traffic', 'pay_num', 'service1_caller_time', 'service2_caller_time',]\n",
    "intcontinous_features = ['age','contract_time', 'former_complaint_num', 'online_time',  'pay_times']\n",
    "# intcontinous_features = ['contract_time', 'former_complaint_num']"
   ]
  },
  {
   "cell_type": "code",
   "execution_count": 32,
   "metadata": {},
   "outputs": [],
   "source": [
    "kmeans1 = KMeans(n_clusters=40, random_state=0).fit(data[floatcontinous_features])\n",
    "kmeans2 = KMeans(n_clusters=12, random_state=0).fit(data[intcontinous_features])"
   ]
  },
  {
   "cell_type": "code",
   "execution_count": 33,
   "metadata": {},
   "outputs": [],
   "source": [
    "data_encode = pd.DataFrame()\n",
    "for feature in category_features:\n",
    "    data_encode[feature] = np.array(data[feature]).astype(int).astype(np.object)\n",
    "\n",
    "for feature in [*floatcontinous_features, *intcontinous_features]:\n",
    "    data_encode[feature] = np.array(data[feature]).astype(np.float32)#。\n",
    "\n",
    "# 对于连续变量，进行聚类，进一步挖掘信息。\n",
    "data_encode['kmeans1'] = np.array(kmeans1.labels_).astype(np.object)\n",
    "data_encode['kmeans2'] = np.array(kmeans2.labels_).astype(np.object)\n",
    "data_encode = pd.get_dummies(data_encode)\n",
    "data_encode['user_id'] = np.array(data['user_id'])\n",
    "data_encode['current_service'] = np.array(data['current_service'])"
   ]
  },
  {
   "cell_type": "code",
   "execution_count": 34,
   "metadata": {},
   "outputs": [],
   "source": [
    "#test data\n",
    "testData = data_encode[data_encode.current_service == -1]\n",
    "featureTest = testData.drop(['current_service', 'user_id'], axis = 1)\n",
    "TestResult = testData[['user_id']].copy()\n",
    "\n",
    "#train data \n",
    "trainData = data_encode[data_encode.current_service != -1]\n",
    "feature = trainData.drop(['current_service', 'user_id'],axis = 1)\n",
    "\n",
    "# label encode\n",
    "label = pd.DataFrame()\n",
    "label['cs'] = np.array(trainData['current_service']).astype(np.int).astype(np.object)\n",
    "label = pd.get_dummies(label)\n",
    "label_dict = getLabelDict(label)"
   ]
  },
  {
   "cell_type": "code",
   "execution_count": 36,
   "metadata": {},
   "outputs": [],
   "source": [
    "savePickle(feature, \"./data/originaldata/train_x.pkl\")\n",
    "savePickle(label, \"./data/originaldata/train_y.pkl\")\n",
    "savePickle(featureTest, \"./data/originaldata/test_x.pkl\")\n",
    "savePickle(label_dict, \"./data/originaldata/label_dict.pkl\")\n",
    "savePickle(TestResult, \"./data/originaldata/TestResult.pkl\")"
   ]
  },
  {
   "cell_type": "code",
   "execution_count": null,
   "metadata": {},
   "outputs": [],
   "source": []
  }
 ],
 "metadata": {
  "kernelspec": {
   "display_name": "Python 3",
   "language": "python",
   "name": "python3"
  },
  "language_info": {
   "codemirror_mode": {
    "name": "ipython",
    "version": 3
   },
   "file_extension": ".py",
   "mimetype": "text/x-python",
   "name": "python",
   "nbconvert_exporter": "python",
   "pygments_lexer": "ipython3",
   "version": "3.6.5"
  }
 },
 "nbformat": 4,
 "nbformat_minor": 2
}
